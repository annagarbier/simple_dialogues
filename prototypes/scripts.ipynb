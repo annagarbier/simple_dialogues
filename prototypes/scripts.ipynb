{
 "cells": [
  {
   "cell_type": "markdown",
   "metadata": {},
   "source": [
    "# Script data"
   ]
  },
  {
   "cell_type": "code",
   "execution_count": 1,
   "metadata": {},
   "outputs": [],
   "source": [
    "scripts = [\n",
    "    {\n",
    "        \"title\" : [\"INT.\",\"Mud Coffee Shop\", \"Day\"],\n",
    "        \"prologue\" : \"Raymond approaches the counter.\",\n",
    "        \"dialogue\" : [\n",
    "            [\"Raymond\", \"he\", \"his\", \"Small drip please.\"],\n",
    "            [\"The barista\", \"she\", \"her\", \"Cream or sugar?\"],\n",
    "            [\"Raymond\", \"he\", \"his\",  \"Small drip please.\"],\n",
    "            [\"The barista\", \"she\", \"her\",  \"Your Name?\"],\n",
    "            [\"Raymond\", \"he\", \"his\",  \"Raymond.\"],\n",
    "        ],\n",
    "        \"epilogue\" : \"The barista nods, reaches for a cup, and begins his order.\"\n",
    "    },\n",
    "    {\n",
    "        \"title\" : [\"INT.\",\"Mud Coffee Shop\", \"Day\"],\n",
    "        \"prologue\" : \"Raymond approaches the counter.\",\n",
    "        \"dialogue\" : [\n",
    "            [\"Raymond\", \"he\", \"his\", \"Small drip please.\"],\n",
    "            [\"The barista\", \"she\", \"her\", \"Cream or sugar?\"],\n",
    "            [\"Raymond\", \"he\", \"his\",  \"Small drip please.\"],\n",
    "            [\"The barista\", \"she\", \"her\",  \"Your Name?\"],\n",
    "            [\"Raymond\", \"he\", \"his\",  \"Raymond.\"],\n",
    "        ],\n",
    "        \"epilogue\" : \"The barista nods, reaches for a cup, and begins his order.\"\n",
    "    },\n",
    "]"
   ]
  },
  {
   "cell_type": "code",
   "execution_count": null,
   "metadata": {},
   "outputs": [],
   "source": []
  }
 ],
 "metadata": {
  "kernelspec": {
   "display_name": "Python 3",
   "language": "python",
   "name": "python3"
  },
  "language_info": {
   "codemirror_mode": {
    "name": "ipython",
    "version": 3
   },
   "file_extension": ".py",
   "mimetype": "text/x-python",
   "name": "python",
   "nbconvert_exporter": "python",
   "pygments_lexer": "ipython3",
   "version": "3.8.2"
  }
 },
 "nbformat": 4,
 "nbformat_minor": 2
}
