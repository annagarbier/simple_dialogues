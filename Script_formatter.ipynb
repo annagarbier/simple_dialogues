{
 "cells": [
  {
   "cell_type": "code",
   "execution_count": 89,
   "metadata": {},
   "outputs": [],
   "source": [
    "import re\n",
    "import pandas as pd\n",
    "import pronouncing"
   ]
  },
  {
   "cell_type": "markdown",
   "metadata": {},
   "source": [
    "## combine Anna's text to speech function"
   ]
  },
  {
   "cell_type": "code",
   "execution_count": 101,
   "metadata": {},
   "outputs": [],
   "source": [
    "# Read data from external mappings, and convert to Pandas DF.\n",
    "pd.set_option('display.max_colwidth', 0)\n",
    "consonants = pd.read_csv('consonants.csv')\n",
    "vowels = pd.read_csv('vowels.csv')\n",
    "\n",
    "def wordToPhonemeList(word):\n",
    "    \"\"\"Converts a single word to list of phonemes.\"\"\"\n",
    "    phoneme_str = pronouncing.phones_for_word(word)[0]\n",
    "    phoneme_str_nostress = ''.join([i for i in phoneme_str if not i.isdigit()])\n",
    "    return phoneme_str_nostress.split(' ')\n",
    "\n",
    "\n",
    "def phonemeToDescription(phoneme, inventory):\n",
    "    \"\"\"Converts a single phoneme to its articulatory description.\"\"\"\n",
    "    return inventory[inventory['cmu_symbol']==phoneme]['description'].to_string(index=False).strip()\n",
    "\n",
    "\n",
    "def wordToDescription(word):\n",
    "    \"\"\"Converts a single word to its articulatory description.\"\"\"\n",
    "    list_description = ''\n",
    "    for phoneme in wordToPhonemeList(word):\n",
    "        description = ''\n",
    "        if consonants['cmu_symbol'].str.contains(phoneme).any():\n",
    "            description = phonemeToDescription(phoneme, consonants)\n",
    "        elif vowels['cmu_symbol'].str.contains(phoneme).any():\n",
    "            description = phonemeToDescription(phoneme, vowels)\n",
    "        list_description += ' ' + description\n",
    "            \n",
    "    return list_description.strip()\n",
    "\n",
    "\n",
    "def docToDescription(doc):\n",
    "    \"\"\"Converts a whole document to its articulatory description.\"\"\"\n",
    "    doc_description = ''\n",
    "    word_list = re.sub(r'[^\\w\\s\\']', '', doc)\n",
    "    doc_description += 'Breathe in. '\n",
    "    for word in word_list.split(' '):\n",
    "        doc_description += wordToDescription(word)\n",
    "    return doc_description.strip()"
   ]
  },
  {
   "cell_type": "markdown",
   "metadata": {},
   "source": [
    "## script output format "
   ]
  },
  {
   "cell_type": "code",
   "execution_count": 102,
   "metadata": {},
   "outputs": [
    {
     "name": "stdout",
     "output_type": "stream",
     "text": [
      "INT. Mud Coffee Shop - Day\n",
      "Raymond walks into Mud Coffee.\n",
      "\n",
      "RAYMOND\n",
      "Breathe in. Raise the tip or blade of your tongue against your gum line, just behind your top teeth. Release air through your mouth, creating slight vibrations between your tongue and gum line. Touch your lips together. With your vocal folds tensed, release air through your nasal cavity. Round your lips so that they create a small opening. With your tongue in a relaxed position at the back of your mouth, tighten your vocal folds and release air through your mouth. Raise the tip of your tongue against your gum line, just behind your top teeth. Keeping your tongue firmly in this position, tense your vocal folds and release air so that the air moves across the sides of your tongue.Touch the tip of your tongue to the roof of your mouth at your gum line, just behind your top teeth. Create a tight constriction and allow air pressure to build inside your mouth. Quickly lower your tongue, releasing the air pressure in a short burst. As you do so, keep your vocal folds tense. Raise the blade of your tongue towards your gum line, just behind your top teeth, without actually touching the roof of your mouth. With your vocal folds tensed, release air through your unconstricted mouth. Move your tongue so that it almost touches the middle of the roof of your mouth, but don't create a constriction. Tense your vocal folds and push air through your mouth. Close your lips together. Push a little air into your mouth, so that air pressure builds behind your lips. Quickly part your lips, releasing the air pressure in a short burst.Close your lips together. Push a little air into your mouth, so that air pressure builds behind your lips. Quickly part your lips, releasing the air pressure in a short burst. Raise the tip of your tongue against your gum line, just behind your top teeth. Keeping your tongue firmly in this position, tense your vocal folds and release air so that the air moves across the sides of your tongue. Raise your tongue and move it close to the middle of the roof of your mouth, without creating a constriction. Tense your vocal folds and push air through your mouth. Raise the tip or blade of your tongue against your gum line, just behind your top teeth. With your vocal folds tensed, release air through your mouth, creating slight vibrations between your tongue and gum line.\n",
      "\"Small drip please.\"\n",
      "\n",
      "BARISTA\n",
      "Breathe in. Raise the back of your tongue upwards so that it touches the soft back part of the roof of your mouth, creating a tight constriction. Allow air pressure to build, then quickly release the pressure by lowering the back of your tongue. Raise the blade of your tongue towards your gum line, just behind your top teeth, without actually touching the roof of your mouth. With your vocal folds tensed, release air through your unconstricted mouth. Raise your tongue and move it close to the middle of the roof of your mouth, without creating a constriction. Tense your vocal folds and push air through your mouth. Touch your lips together. With your vocal folds tensed, release air through your nasal cavity.Round your lips so that they create a small opening. With your tongue in a relaxed position at the back of your mouth, tighten your vocal folds and release air through your mouth. Raise the blade of your tongue towards your gum line, just behind your top teeth, without actually touching the roof of your mouth. With your vocal folds tensed, release air through your unconstricted mouth.Raise the tip of your tongue so that it touches the roof of your mouth just behind your gum line. Release air through your mouth, creating slight vibrations between your tongue and the roof of your mouth. Raise your tongue slightly so that it goes near, but doesn't quite touch, the back of the roof of your mouth. Tighten your vocal folds and push air through your mouth. Raise the back of your tongue upwards so that it touches the soft back part of the roof of your mouth, creating a tight constriction. Allow air pressure to build, then quickly release the pressure by lowering the back of your tongue. As you do so, keep your vocal folds tensed. Move your tongue slightly towards the middle of the roof of your mouth. Tense your vocal folds and push air through your mouth.\n",
      "\"Cream or sugar?\"\n",
      "\n",
      "RAYMOND\n",
      "Breathe in. Close your lips together. Push a little air into your mouth, so that air pressure builds behind your lips. With your vocal folds tensed, quickly part your lips, releasing the air pressure in a short burst. Raise the tip of your tongue against your gum line, just behind your top teeth. Keeping your tongue firmly in this position, tense your vocal folds and release air so that the air moves across the sides of your tongue. Lower your tongue in your mouth and move it to the front of your mouth, without creating a constriction. Tense your vocal folds and push air through your mouth. Raise the back of your tongue upwards so that it touches the soft back part of the roof of your mouth, creating a tight constriction. Allow air pressure to build, then quickly release the pressure by lowering the back of your tongue.Raise the tip of your tongue so that it touches the bottom edge of your top, front teeth. Release air through your mouth, creating slight vibrations between your tongue and teeth. Lower your tongue in your mouth and move it to the front of your mouth, without creating a constriction. Tense your vocal folds and push air through your mouth. Raise the back of your tongue upwards so that it touches the soft back part of the roof of your mouth. With your vocal folds tense, release air through your nasal cavity. Raise the back of your tongue upwards so that it touches the soft back part of the roof of your mouth, creating a tight constriction. Allow air pressure to build, then quickly release the pressure by lowering the back of your tongue. Raise the tip or blade of your tongue against your gum line, just behind your top teeth. Release air through your mouth, creating slight vibrations between your tongue and gum line.\n",
      "\"Black, thanks.\"\n",
      "\n",
      "BARISTA\n",
      "Breathe in. Raise the back of your tongue towards the hard part of the roof of your mouth, neither too far forward nor too far back. Keep some space between your tongue and the roof of your mouth. With your vocal folds tensed, release air through your mouth. Round your lips so that they create a small opening. With your tongue in a relaxed position at the back of your mouth, tighten your vocal folds and release air through your mouth. Raise the blade of your tongue towards your gum line, just behind your top teeth, without actually touching the roof of your mouth. With your vocal folds tensed, release air through your unconstricted mouth.Touch the tip of your tongue to the roof of your mouth at your gum line, just behind your top teeth. With your vocal folds tensed, release air through your nasal cavity. With your tongue relaxed and at the front of your mouth, tense your vocal folds. While pushing air through your mouth, move your tongue slightly upwards towards the roof of your mouth, leaving a spall space between your tongue and the roof of your mouth. Touch your lips together. With your vocal folds tensed, release air through your nasal cavity.\n",
      "\"Your Name?\"\n",
      "\n",
      "RAYMOND\n",
      "Breathe in. Raise the blade of your tongue towards your gum line, just behind your top teeth, without actually touching the roof of your mouth. With your vocal folds tensed, release air through your unconstricted mouth. With your tongue relaxed and at the front of your mouth, tense your vocal folds. While pushing air through your mouth, move your tongue slightly upwards towards the roof of your mouth, leaving a spall space between your tongue and the roof of your mouth. Touch your lips together. With your vocal folds tensed, release air through your nasal cavity. Raise your tongue very slightly towards the back of the roof of your mouth. Tighten your vocal folds and push air through your mouth. Touch the tip of your tongue to the roof of your mouth at your gum line, just behind your top teeth. With your vocal folds tensed, release air through your nasal cavity. Touch the tip of your tongue to the roof of your mouth at your gum line, just behind your top teeth. Create a tight constriction and allow air pressure to build inside your mouth. Quickly lower your tongue, releasing the air pressure in a short burst. As you do so, keep your vocal folds tense.\n",
      "\"Raymond.\"\n",
      "\n"
     ]
    }
   ],
   "source": [
    "def transform(txt_name):\n",
    "    file = open('raw_text/{}.txt'.format(txt_name),'r')\n",
    "    lines = file.readlines()\n",
    "    output = ''\n",
    "    for line in lines:\n",
    "        pattern = r'\"([^\"]*)\"'\n",
    "        og_speech = re.findall(pattern,line)\n",
    "        if len(og_speech) > 0:\n",
    "            toSpeech = docToDescription(og_speech[0])\n",
    "            line= re.sub(pattern,toSpeech,line)\n",
    "            line= '{0}\"{1}\"\\n'.format(line,og_speech[0]) \n",
    "        output += line \n",
    "    return output\n",
    "\n",
    "print(transform('coffee'))"
   ]
  },
  {
   "cell_type": "markdown",
   "metadata": {},
   "source": []
  },
  {
   "cell_type": "code",
   "execution_count": 90,
   "metadata": {},
   "outputs": [],
   "source": []
  },
  {
   "cell_type": "code",
   "execution_count": null,
   "metadata": {},
   "outputs": [],
   "source": []
  }
 ],
 "metadata": {
  "kernelspec": {
   "display_name": "Python 3",
   "language": "python",
   "name": "python3"
  },
  "language_info": {
   "codemirror_mode": {
    "name": "ipython",
    "version": 3
   },
   "file_extension": ".py",
   "mimetype": "text/x-python",
   "name": "python",
   "nbconvert_exporter": "python",
   "pygments_lexer": "ipython3",
   "version": "3.7.4"
  }
 },
 "nbformat": 4,
 "nbformat_minor": 2
}
