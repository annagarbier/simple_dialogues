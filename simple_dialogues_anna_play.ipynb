{
 "cells": [
  {
   "cell_type": "markdown",
   "metadata": {},
   "source": [
    "# Simple Dialogues - Anna Playground"
   ]
  },
  {
   "cell_type": "markdown",
   "metadata": {},
   "source": [
    "## Basic functions to expand simple text to pronunciation descriptions."
   ]
  },
  {
   "cell_type": "code",
   "execution_count": 4,
   "metadata": {},
   "outputs": [],
   "source": [
    "# Imports\n",
    "import pandas as pd\n",
    "import pronouncing\n",
    "import re\n",
    "\n",
    "\n",
    "# Read data from external mappings, and convert to Pandas DF.\n",
    "pd.set_option('display.max_colwidth', 0)\n",
    "consonants = pd.read_csv('consonants.csv')\n",
    "vowels = pd.read_csv('vowels.csv')\n",
    "\n",
    "\n",
    "# Conversions\n",
    "def wordToPhonemeList(word):\n",
    "    \"\"\"Converts a single word to list of phonemes.\"\"\"\n",
    "    phoneme_str = pronouncing.phones_for_word(word)[0]\n",
    "    phoneme_str_nostress = ''.join([i for i in phoneme_str if not i.isdigit()])\n",
    "    return phoneme_str_nostress.split(' ')\n",
    "\n",
    "\n",
    "def phonemeToDescription(phoneme, inventory):\n",
    "    \"\"\"Converts a single phoneme to its articulatory description.\"\"\"\n",
    "    return inventory[inventory['cmu_symbol']==phoneme]['description'].to_string(index=False).strip()\n",
    "\n",
    "\n",
    "def wordToDescription(word):\n",
    "    \"\"\"Converts a single word to its articulatory description.\"\"\"\n",
    "    list_description = ''\n",
    "    for phoneme in wordToPhonemeList(word):\n",
    "        description = ''\n",
    "        if consonants['cmu_symbol'].str.contains(phoneme).any():\n",
    "            description = phonemeToDescription(phoneme, consonants)\n",
    "        elif vowels['cmu_symbol'].str.contains(phoneme).any():\n",
    "            description = phonemeToDescription(phoneme, vowels)\n",
    "        list_description += ' ' + description\n",
    "            \n",
    "    return list_description.strip()\n",
    "\n",
    "\n",
    "def docToDescription(doc):\n",
    "    \"\"\"Converts a whole document to its articulatory description.\"\"\"\n",
    "    doc_description = ''\n",
    "    word_list = re.sub(r'[^\\w\\s\\']', '', doc)\n",
    "    for word in word_list.split(' '):\n",
    "        doc_description += wordToDescription(word)\n",
    "    return doc_description.strip()\n",
    "\n",
    "\n",
    "def replaceTags(doc, name, pro, pro_pos):\n",
    "    \"\"\"Replaces tags like <PRO> with actual content.\"\"\"\n",
    "    # Basic pronoun swap.\n",
    "    doc = re.sub(r'<PRO>', pro, doc)\n",
    "    doc = re.sub(r'<PRO_POS>', pro_pos, doc)\n",
    "    # Add name.\n",
    "    doc = doc.replace(pro, name, 1)\n",
    "    # Capitalize everything after end punctuation.\n",
    "    punct_re = re.compile('([.!?]\\s*)')\n",
    "    split_on_punct = punct_re.split(doc)\n",
    "    doc = ''.join([i.capitalize() for i in split_on_punct])\n",
    "    return doc\n",
    "\n",
    "    "
   ]
  },
  {
   "cell_type": "markdown",
   "metadata": {},
   "source": [
    "## Given a title, prologue, dialogue, and epilogue - generate a chapter."
   ]
  },
  {
   "cell_type": "code",
   "execution_count": 5,
   "metadata": {
    "scrolled": false
   },
   "outputs": [],
   "source": [
    "def createChapter(title, prologue, dialogue, epilogue):\n",
    "    # Begin writing the chapter by adding the title.\n",
    "    chapter = title.upper() + \"\\n\\n\"\n",
    "    \n",
    "    # Add the prologue text.\n",
    "    chapter += prologue + \"\\n\\n\"\n",
    "    \n",
    "    # Add the expanded dialogue text.\n",
    "    for turn in dialogue:\n",
    "        # Parse dialogue info.\n",
    "        speaker = turn[0].upper()\n",
    "        pronoun = turn[1]\n",
    "        pronoun_possessive = turn[2]\n",
    "        turn_simple = turn[3]\n",
    "        # Expand the dialogue turn.\n",
    "        turn_expanded = docToDescription(turn_simple)\n",
    "        turn_final = replaceTags(\n",
    "            turn_expanded,\n",
    "            speaker,\n",
    "            pronoun,\n",
    "            pronoun_possessive\n",
    "        ) + \"\\n\\n\"\n",
    "        chapter += turn_final\n",
    "\n",
    "    # Add the epilogue text.\n",
    "    chapter += epilogue\n",
    "    \n",
    "    # Return the whole chapter.\n",
    "    return chapter"
   ]
  },
  {
   "cell_type": "markdown",
   "metadata": {},
   "source": [
    "## Example data and chapter generation."
   ]
  },
  {
   "cell_type": "code",
   "execution_count": 6,
   "metadata": {},
   "outputs": [
    {
     "name": "stdout",
     "output_type": "stream",
     "text": [
      "9110\n"
     ]
    }
   ],
   "source": [
    "title = \"Coffee\"\n",
    "prologue = \"Raymond approaches the counter.\"\n",
    "dialogue = [\n",
    "    [\"Raymond\", \"he\", \"his\", \"Small drip please.\"],\n",
    "    [\"The barista\", \"she\", \"her\", \"Cream or sugar?\"],\n",
    "    [\"Raymond\", \"he\", \"his\",  \"Small drip please.\"],\n",
    "    [\"The barista\", \"she\", \"her\",  \"Your Name?\"],\n",
    "    [\"Raymond\", \"he\", \"his\",  \"Raymond.\"],\n",
    "]\n",
    "epilogue = \"The barista nods, reaches for a cup, and begins his order.\"\n",
    "\n",
    "print(len(createChapter(title, prologue, dialogue, epilogue)))"
   ]
  },
  {
   "cell_type": "code",
   "execution_count": null,
   "metadata": {},
   "outputs": [],
   "source": []
  }
 ],
 "metadata": {
  "kernelspec": {
   "display_name": "Python 3",
   "language": "python",
   "name": "python3"
  },
  "language_info": {
   "codemirror_mode": {
    "name": "ipython",
    "version": 3
   },
   "file_extension": ".py",
   "mimetype": "text/x-python",
   "name": "python",
   "nbconvert_exporter": "python",
   "pygments_lexer": "ipython3",
   "version": "3.8.3"
  }
 },
 "nbformat": 4,
 "nbformat_minor": 2
}
