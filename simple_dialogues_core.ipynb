{
 "cells": [
  {
   "cell_type": "markdown",
   "metadata": {},
   "source": [
    "# `docToDescription(doc)`\n",
    "\n",
    "Given text input (`doc`), `docToDescription(doc)` lists the articulatory movements required to produce the doc's speech."
   ]
  },
  {
   "cell_type": "markdown",
   "metadata": {},
   "source": [
    "## Imports"
   ]
  },
  {
   "cell_type": "code",
   "execution_count": 7,
   "metadata": {},
   "outputs": [],
   "source": [
    "import pandas as pd\n",
    "import pronouncing\n",
    "import re"
   ]
  },
  {
   "cell_type": "markdown",
   "metadata": {},
   "source": [
    "## Data"
   ]
  },
  {
   "cell_type": "code",
   "execution_count": 8,
   "metadata": {},
   "outputs": [],
   "source": [
    "# Read data from external mappings, and convert to Pandas DF.\n",
    "pd.set_option('display.max_colwidth', 0)\n",
    "consonants = pd.read_csv('consonants.csv')\n",
    "vowels = pd.read_csv('vowels.csv')"
   ]
  },
  {
   "cell_type": "markdown",
   "metadata": {},
   "source": [
    "## Core"
   ]
  },
  {
   "cell_type": "code",
   "execution_count": 11,
   "metadata": {},
   "outputs": [],
   "source": [
    "def wordToPhonemeList(word):\n",
    "    \"\"\"Converts a single word to list of phonemes.\"\"\"\n",
    "    phoneme_str = pronouncing.phones_for_word(word)[0]\n",
    "    phoneme_str_nostress = ''.join([i for i in phoneme_str if not i.isdigit()])\n",
    "    return phoneme_str_nostress.split(' ')\n",
    "\n",
    "\n",
    "def phonemeToDescription(phoneme, inventory):\n",
    "    \"\"\"Converts a single phoneme to its articulatory description.\"\"\"\n",
    "    return inventory[inventory['cmu_symbol']==phoneme]['description'].to_string(index=False).strip()\n",
    "\n",
    "\n",
    "def wordToDescription(word):\n",
    "    \"\"\"Converts a single word to its articulatory description.\"\"\"\n",
    "    list_description = ''\n",
    "    for phoneme in wordToPhonemeList(word):\n",
    "        description = ''\n",
    "        if consonants['cmu_symbol'].str.contains(phoneme).any():\n",
    "            description = phonemeToDescription(phoneme, consonants)\n",
    "        elif vowels['cmu_symbol'].str.contains(phoneme).any():\n",
    "            description = phonemeToDescription(phoneme, vowels)\n",
    "        list_description += ' ' + description\n",
    "            \n",
    "    return list_description.strip()\n",
    "\n",
    "\n",
    "def docToDescription(doc):\n",
    "    \"\"\"Converts a whole document to its articulatory description.\"\"\"\n",
    "    doc_description = ''\n",
    "    word_list = re.sub(r'[^\\w\\s\\']', '', doc)\n",
    "    for word in word_list.split(' '):\n",
    "        doc_description += wordToDescription(word)\n",
    "    return doc_description.strip()"
   ]
  },
  {
   "cell_type": "code",
   "execution_count": 12,
   "metadata": {},
   "outputs": [
    {
     "name": "stdout",
     "output_type": "stream",
     "text": [
      "<PRO> partially constricts <PRO_POS> glottis. While keeping <PRO_POS> vocal folds relaxed, <PRO> pushes air through this partial constriction. <PRO> raises <PRO_POS> tongue very slightly towards the back of the roof of <PRO_POS> mouth. <PRO> tightens <PRO_POS> vocal folds and pushes air through <PRO_POS> mouth. <PRO> raises the tip of <PRO_POS> tongue against <PRO_POS> gum line, just behind <PRO_POS> top teeth. Keeping <PRO_POS> tongue firmly in this position, <PRO> tenses <PRO_POS> vocal folds and releases air so that the air moves across the sides of <PRO_POS> tongue. With <PRO_POS> tongue relaxed at the back of <PRO_POS> mouth, <PRO> tenses <PRO_POS> vocal folds. While pushing air through <PRO_POS> mouth, round <PRO_POS> lips and <PRO> moves <PRO_POS> tongue slightly upwards towards the roof of <PRO_POS> mouth, leaving a spall space between <PRO_POS> tongue and the roof of <PRO_POS> mouth.<PRO> rounds <PRO_POS> lips so that they create a small opening. With <PRO_POS> lips in this position, <PRO> raises the back of <PRO_POS> tongue towards the back of the roof of <PRO_POS> mouth. <PRO> keeps a little space between <PRO_POS> tongue and the roof of <PRO_POS> mouth. <PRO> releases air through <PRO_POS> mouth. As <PRO> does so, <PRO> keeps <PRO_POS> vocal folds tense. <PRO> moves <PRO_POS> tongue slightly towards the middle of the roof of <PRO_POS> mouth. <PRO> tenses <PRO_POS> vocal folds and pushes air through <PRO_POS> mouth. <PRO> raises the tip of <PRO_POS> tongue against <PRO_POS> gum line, just behind <PRO_POS> top teeth. Keeping <PRO_POS> tongue firmly in this position, <PRO> tenses <PRO_POS> vocal folds and releases air so that the air moves across the sides of <PRO_POS> tongue. <PRO> touches the tip of <PRO_POS> tongue to the roof of <PRO_POS> mouth at <PRO_POS> gum line, just behind <PRO_POS> top teeth. <PRO> creates a tight constriction and allows air pressure to build inside <PRO_POS> mouth. <PRO> quickly lowers <PRO_POS> tongue, releasing the air pressure in a short burst. As <PRO> does so, <PRO> keeps <PRO_POS> vocal folds tense.\n"
     ]
    }
   ],
   "source": [
    "print(docToDescription('hello world'))\n",
    "\n",
    "# Note that the final text will have some tags in it that need\n",
    "# replacing, dynamically.\n",
    "#\n",
    "# PRO means 'pronoun' and will dynamically be replaced\n",
    "# by 'he', 'she', 'they'.\n",
    "#\n",
    "# PRO_POS means 'posessive pronoun' and will dynamically\n",
    "# be replaced by 'his', 'her', 'their'."
   ]
  },
  {
   "cell_type": "code",
   "execution_count": null,
   "metadata": {},
   "outputs": [],
   "source": []
  }
 ],
 "metadata": {
  "kernelspec": {
   "display_name": "Python 3",
   "language": "python",
   "name": "python3"
  },
  "language_info": {
   "codemirror_mode": {
    "name": "ipython",
    "version": 3
   },
   "file_extension": ".py",
   "mimetype": "text/x-python",
   "name": "python",
   "nbconvert_exporter": "python",
   "pygments_lexer": "ipython3",
   "version": "3.8.3"
  }
 },
 "nbformat": 4,
 "nbformat_minor": 2
}
